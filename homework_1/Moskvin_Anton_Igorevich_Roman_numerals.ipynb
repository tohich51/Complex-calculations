{
 "cells": [
  {
   "cell_type": "code",
   "execution_count": 1,
   "metadata": {},
   "outputs": [],
   "source": [
    "mapping = {\"I\" : 1, \n",
    "           \"V\" : 5,\n",
    "           \"X\" : 10,\n",
    "           \"L\" : 50,\n",
    "           \"C\" : 100,\n",
    "           \"D\" : 500,\n",
    "           \"M\" : 1000}"
   ]
  },
  {
   "cell_type": "markdown",
   "metadata": {},
   "source": [
    "# Roman numerals"
   ]
  },
  {
   "cell_type": "markdown",
   "metadata": {},
   "source": [
    "## I. Roman numerals to decimals\n",
    "\n",
    "Write a function which receives a Roman numeral written out as a string, and returns an integer representing the decimal form of the input number. "
   ]
  },
  {
   "cell_type": "code",
   "execution_count": 4,
   "metadata": {},
   "outputs": [],
   "source": [
    "def roman_to_decimal(rom):\n",
    "    dec = mapping[rom[-1]]\n",
    "    for i in reversed(range(len(rom)-1)):\n",
    "        if (mapping[rom[i]] == mapping[rom[i + 1]]) or  (dec < mapping[rom[i]]):\n",
    "            dec += mapping[rom[i]]\n",
    "        elif (dec > mapping[rom[i]]) and (mapping[rom[i]] <= mapping[rom[i+1]]) :\n",
    "            dec -= mapping[rom[i]]\n",
    "    return(dec)"
   ]
  },
  {
   "cell_type": "markdown",
   "metadata": {},
   "source": [
    "### Please, note: it's necessary to write roman numerals in right format. For instance: 8 = VIII not IIX."
   ]
  },
  {
   "cell_type": "markdown",
   "metadata": {},
   "source": [
    "Here are some tests for you to test your code. Your code must pass all of them. You also need to come up with several more tests (your choice)."
   ]
  },
  {
   "cell_type": "code",
   "execution_count": 5,
   "metadata": {},
   "outputs": [
    {
     "name": "stdout",
     "output_type": "stream",
     "text": [
      "True\n",
      "True\n",
      "True\n",
      "True\n",
      "True\n",
      "\n",
      "Additional tests:\n",
      "\n",
      "True\n",
      "True\n",
      "True\n",
      "True\n",
      "True\n"
     ]
    }
   ],
   "source": [
    "test_pairs = [(\"IX\", 9), (\"XI\", 11), (\"MCCII\", 1202), (\"MMXVIII\", 2018), (\"XLIX\", 49)]\n",
    "additional_test = [('VIII', 8), ('XXXIV', 34), ('LVIII', 58), ('DCXLVI', 646), ('DCLXXIX', 679)]\n",
    "\n",
    "for rom, dec in test_pairs:\n",
    "    converted = roman_to_decimal(rom)\n",
    "    print(converted == dec)\n",
    "    \n",
    "print('\\nAdditional tests:\\n')\n",
    "\n",
    "for rom, dec in additional_test:\n",
    "    converted = roman_to_decimal(rom)\n",
    "    print(converted == dec)"
   ]
  },
  {
   "cell_type": "markdown",
   "metadata": {},
   "source": [
    "## II. Decimal numbers to roman numerals.\n",
    "\n",
    "The maximum grade for first task (Roman to decimal) is 7 on the 10-point HSE scale. For extra credit, complete the second task: *given a decimal number, convert it to the Roman form*."
   ]
  },
  {
   "cell_type": "code",
   "execution_count": 6,
   "metadata": {},
   "outputs": [],
   "source": [
    "def decimal_to_roman(dec):\n",
    "    \"\"\"Convert a decimal to the Roman form.\n",
    "    \n",
    "    Parameters\n",
    "    ----------\n",
    "    dec : int\n",
    "        A positive integer number\n",
    "    \n",
    "    Returns\n",
    "    -------\n",
    "    rom : str\n",
    "        A string representation of a Roman numeral form of `dec`.\n",
    "    \"\"\"\n",
    "    rom = '' # Roman number record\n",
    "    L = 0 # counter of number category\n",
    "    _1 = '' # units of the Roman record\n",
    "    _10 = '' # decades of the Roman record\n",
    "    _100 = '' # hundreds of the Roman record\n",
    "    _1000 = '' # chiliads of the Roman record\n",
    "    while dec != 0:\n",
    "        x = dec % 10 # the last right digit\n",
    "        \n",
    "        if x != 0:\n",
    "            if L == 0: # process units\n",
    "                if x <= 3:\n",
    "                    _1 += x * 'I'\n",
    "                if x == 4:\n",
    "                    _1 += 'IV'\n",
    "                if x > 4 and x < 9:\n",
    "                    _1 += ('V' + (x % 5) * 'I') \n",
    "                if x == 9:\n",
    "                    _1 += 'IX'\n",
    "                    \n",
    "            if L == 1: # process decades\n",
    "                if x <= 3:\n",
    "                    _10 += x * 'X'\n",
    "                if x == 4:\n",
    "                    _10 += 'XL'\n",
    "                if x > 4 and x < 9:\n",
    "                    _10 += ('L' + (x % 5) * 'X') \n",
    "                if x == 9:\n",
    "                    _10 += 'XC'\n",
    "                    \n",
    "            if L == 2: # process hundreds\n",
    "                if x <= 3:\n",
    "                    _100 += x * 'C'\n",
    "                if x == 4:\n",
    "                    _100 += 'CD'\n",
    "                if x > 4 and x < 9:\n",
    "                    _100 += ('D' + (x % 5) * 'C') \n",
    "                if x == 9:\n",
    "                    _100 += 'CM'\n",
    "                    \n",
    "            if L > 2: # process chiliads and more\n",
    "                _1000 += x * 'M'\n",
    "                \n",
    "        dec = dec // 10 # cut right number side\n",
    "        L += 1 # incrementation the counter of number category\n",
    "        \n",
    "    rom = _1000 + _100 + _10 + _1 # concatenation peaces of Roman number\n",
    "    return rom"
   ]
  },
  {
   "cell_type": "markdown",
   "metadata": {},
   "source": [
    "You need to come up with test cases to show that your conversion works as expected. \n",
    "NB: the conversion is ambiguous in some cases. Any valid conversion is accepted. "
   ]
  },
  {
   "cell_type": "code",
   "execution_count": 7,
   "metadata": {},
   "outputs": [
    {
     "name": "stdout",
     "output_type": "stream",
     "text": [
      "True\n",
      "True\n",
      "True\n",
      "True\n",
      "True\n",
      "True\n",
      "True\n",
      "True\n",
      "True\n",
      "True\n"
     ]
    }
   ],
   "source": [
    "test_pairs_1 = [('VIII', 8), ('XXXIV', 34), ('LVIII', 58), ('DCXLVI', 646),\n",
    "                ('DCLXXIX', 679), (\"IX\", 9), (\"XI\", 11), (\"MCCII\", 1202), (\"MMXVIII\", 2018),\n",
    "                (\"XLIX\", 49)]\n",
    "\n",
    "for rom, dec in test_pairs_1:\n",
    "    converted = decimal_to_roman(dec)\n",
    "    print(converted == rom)"
   ]
  },
  {
   "cell_type": "code",
   "execution_count": 10,
   "metadata": {},
   "outputs": [
    {
     "data": {
      "text/plain": [
       "'CMXCVIII'"
      ]
     },
     "execution_count": 10,
     "metadata": {},
     "output_type": "execute_result"
    }
   ],
   "source": [
    "decimal_to_roman(998)"
   ]
  },
  {
   "cell_type": "code",
   "execution_count": null,
   "metadata": {},
   "outputs": [],
   "source": []
  }
 ],
 "metadata": {
  "kernelspec": {
   "display_name": "Python 3",
   "language": "python",
   "name": "python3"
  },
  "language_info": {
   "codemirror_mode": {
    "name": "ipython",
    "version": 3
   },
   "file_extension": ".py",
   "mimetype": "text/x-python",
   "name": "python",
   "nbconvert_exporter": "python",
   "pygments_lexer": "ipython3",
   "version": "3.6.6"
  }
 },
 "nbformat": 4,
 "nbformat_minor": 2
}
