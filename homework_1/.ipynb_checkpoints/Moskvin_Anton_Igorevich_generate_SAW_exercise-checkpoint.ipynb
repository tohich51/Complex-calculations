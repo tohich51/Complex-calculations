{
 "cells": [
  {
   "cell_type": "markdown",
   "metadata": {},
   "source": [
    "# I. Generate all lattice walks, 2D square lattice"
   ]
  },
  {
   "cell_type": "code",
   "execution_count": 1,
   "metadata": {},
   "outputs": [],
   "source": [
    "# This I showed in class:\n",
    "\n",
    "\n",
    "steps = [(1, 0), (-1, 0), (0, 1), (0, -1)]\n",
    "\n",
    "def generate_walks(path, L):\n",
    "    \"\"\"Generate all random walks on the 2D square lattice.\"\"\"\n",
    "    if L == 0:\n",
    "        print(path)\n",
    "    else:\n",
    "        for dx, dy in steps:\n",
    "            x, y = path[-1]\n",
    "            pp = path.copy()\n",
    "            pp.append((x + dx, y + dy))\n",
    "            generate_walks(pp, L - 1)"
   ]
  },
  {
   "cell_type": "code",
   "execution_count": 2,
   "metadata": {},
   "outputs": [
    {
     "name": "stdout",
     "output_type": "stream",
     "text": [
      "[(0, 0), (1, 0), (2, 0)]\n",
      "[(0, 0), (1, 0), (0, 0)]\n",
      "[(0, 0), (1, 0), (1, 1)]\n",
      "[(0, 0), (1, 0), (1, -1)]\n",
      "[(0, 0), (-1, 0), (0, 0)]\n",
      "[(0, 0), (-1, 0), (-2, 0)]\n",
      "[(0, 0), (-1, 0), (-1, 1)]\n",
      "[(0, 0), (-1, 0), (-1, -1)]\n",
      "[(0, 0), (0, 1), (1, 1)]\n",
      "[(0, 0), (0, 1), (-1, 1)]\n",
      "[(0, 0), (0, 1), (0, 2)]\n",
      "[(0, 0), (0, 1), (0, 0)]\n",
      "[(0, 0), (0, -1), (1, -1)]\n",
      "[(0, 0), (0, -1), (-1, -1)]\n",
      "[(0, 0), (0, -1), (0, 0)]\n",
      "[(0, 0), (0, -1), (0, -2)]\n"
     ]
    }
   ],
   "source": [
    "generate_walks([(0, 0)], 2)"
   ]
  },
  {
   "cell_type": "markdown",
   "metadata": {},
   "source": [
    "## Store the walks\n",
    "\n",
    "Printing walks is nice, but not very useful. Better construct a list of all walks, for postprocessing. To this end, add a `cache` parameter, which stores all generated walks."
   ]
  },
  {
   "cell_type": "code",
   "execution_count": 3,
   "metadata": {},
   "outputs": [],
   "source": [
    "steps = [(1, 0), (-1, 0), (0, 1), (0, -1)]\n",
    "\n",
    "def generate_walks2(path, L, cache):\n",
    "    if L == 0:\n",
    "        cache.append(path)\n",
    "    else:\n",
    "        for dx, dy in steps:\n",
    "            x, y = path[-1]\n",
    "            xy_new = (x + dx, y + dy)\n",
    "            pp = path.copy()\n",
    "            pp.append(xy_new)\n",
    "            generate_walks2(pp, L - 1, cache)"
   ]
  },
  {
   "cell_type": "code",
   "execution_count": 4,
   "metadata": {},
   "outputs": [
    {
     "data": {
      "text/plain": [
       "16"
      ]
     },
     "execution_count": 4,
     "metadata": {},
     "output_type": "execute_result"
    }
   ],
   "source": [
    "cache = []\n",
    "generate_walks2([(0, 0)], 2, cache)\n",
    "len(cache)"
   ]
  },
  {
   "cell_type": "markdown",
   "metadata": {},
   "source": [
    "## Task 0\n",
    "\n",
    "Compute the average end-to-end distance of random walks of a given length. What is the scaling of the end-to-end distance with the length of the walk? What is the scaling of the mean *square* end-to-end distance with the length?"
   ]
  },
  {
   "cell_type": "code",
   "execution_count": 11,
   "metadata": {},
   "outputs": [],
   "source": [
    "# call function with two parameters\n",
    "# frist is length of walk\n",
    "# second is type of walk either 'general' or 'saw'\n",
    "def distance(n, type_):\n",
    "    cache = []\n",
    "    end_to_end_dist = 0\n",
    "    if type_ == 'general':\n",
    "        generate_walks2([(0, 0)], n, cache)\n",
    "    elif type_ == 'saw':\n",
    "        generate_SAWs([(0, 0)], n, cache)\n",
    "    R = [0, 0]\n",
    "    lenght = len(cache)\n",
    "    for i in range(len(cache)):\n",
    "        end_to_end_dist += 1 / lenght * (cache[i][-1][0]**2 + cache[i][-1][1]**2)**0.5\n",
    "        R[0] += 1 / lenght * cache[i][-1][0]\n",
    "        R[1] += 1 / lenght * cache[i][-1][1]\n",
    "    print('Average mean square end-to-end distance of random walks of length ',\n",
    "          n ,' is ', end_to_end_dist)\n",
    "    print('Average end-to-end distance of random walks of length',n,'is',R)\n",
    "    return(end_to_end_dist)"
   ]
  },
  {
   "cell_type": "code",
   "execution_count": 12,
   "metadata": {},
   "outputs": [
    {
     "name": "stdout",
     "output_type": "stream",
     "text": [
      "Average mean square end-to-end distance of random walks of length  2  is  1.2071067811865477\n",
      "Average end-to-end distance of random walks of length 2 is [0.0, 0.0]\n"
     ]
    },
    {
     "data": {
      "text/plain": [
       "1.2071067811865477"
      ]
     },
     "execution_count": 12,
     "metadata": {},
     "output_type": "execute_result"
    }
   ],
   "source": [
    "distance(2,'general')"
   ]
  },
  {
   "cell_type": "code",
   "execution_count": 17,
   "metadata": {},
   "outputs": [
    {
     "name": "stdout",
     "output_type": "stream",
     "text": [
      "Average mean square end-to-end distance of random walks of length  0  is  0.0\n",
      "Average end-to-end distance of random walks of length 0 is [0.0, 0.0]\n",
      "Average mean square end-to-end distance of random walks of length  0  is  0.0\n",
      "Average end-to-end distance of random walks of length 0 is [0.0, 0.0]\n",
      "Average mean square end-to-end distance of random walks of length  1  is  1.0\n",
      "Average end-to-end distance of random walks of length 1 is [0.0, 0.0]\n",
      "Average mean square end-to-end distance of random walks of length  1  is  1.0\n",
      "Average end-to-end distance of random walks of length 1 is [0.0, 0.0]\n",
      "Average mean square end-to-end distance of random walks of length  2  is  1.2071067811865477\n",
      "Average end-to-end distance of random walks of length 2 is [0.0, 0.0]\n",
      "Average mean square end-to-end distance of random walks of length  2  is  1.60947570824873\n",
      "Average end-to-end distance of random walks of length 2 is [0.0, 2.7755575615628914e-17]\n",
      "Average mean square end-to-end distance of random walks of length  3  is  1.5885254915624203\n",
      "Average end-to-end distance of random walks of length 3 is [0.0, 0.0]\n",
      "Average mean square end-to-end distance of random walks of length  3  is  2.0462675405554163\n",
      "Average end-to-end distance of random walks of length 3 is [8.326672684688674e-17, 1.3877787807814457e-17]\n",
      "Average mean square end-to-end distance of random walks of length  4  is  1.7532798363559174\n",
      "Average end-to-end distance of random walks of length 4 is [0.0, 0.0]\n",
      "Average mean square end-to-end distance of random walks of length  4  is  2.5570255311726644\n",
      "Average end-to-end distance of random walks of length 4 is [1.3183898417423734e-16, 6.938893903907228e-18]\n",
      "Average mean square end-to-end distance of random walks of length  5  is  2.0193315606071582\n",
      "Average end-to-end distance of random walks of length 5 is [0.0, 0.0]\n",
      "Average mean square end-to-end distance of random walks of length  5  is  2.9512053136683387\n",
      "Average end-to-end distance of random walks of length 5 is [-5.724587470723463e-17, -1.0408340855860843e-17]\n",
      "Average mean square end-to-end distance of random walks of length  6  is  2.1612211221359865\n",
      "Average end-to-end distance of random walks of length 6 is [0.0, 0.0]\n",
      "Average mean square end-to-end distance of random walks of length  6  is  3.3905293993647327\n",
      "Average end-to-end distance of random walks of length 6 is [-2.662800535624399e-16, 3.2959746043559335e-16]\n"
     ]
    }
   ],
   "source": [
    "general_distance = []\n",
    "saw_distance = []\n",
    "for i in range(7):\n",
    "    general_distance.append(distance(i, 'general'))\n",
    "    saw_distance.append(distance(i, 'saw'))"
   ]
  },
  {
   "cell_type": "code",
   "execution_count": 19,
   "metadata": {},
   "outputs": [],
   "source": [
    "import matplotlib.pyplot as plt\n",
    "%matplotlib inline\n"
   ]
  },
  {
   "cell_type": "code",
   "execution_count": 26,
   "metadata": {},
   "outputs": [
    {
     "data": {
      "text/plain": [
       "[<matplotlib.lines.Line2D at 0x106621f98>]"
      ]
     },
     "execution_count": 26,
     "metadata": {},
     "output_type": "execute_result"
    },
    {
     "data": {
      "image/png": "[encoded data removed]",
      "text/plain": [
       "<Figure size 432x288 with 1 Axes>"
      ]
     },
     "metadata": {},
     "output_type": "display_data"
    }
   ],
   "source": [
    "plt.plot(list(range(1, 8)), general_distance)\n",
    "plt.plot(list(range(1, 8)), saw_distance)"
   ]
  },
  {
   "cell_type": "code",
   "execution_count": 24,
   "metadata": {},
   "outputs": [
    {
     "data": {
      "text/plain": [
       "[1, 2, 3, 4]"
      ]
     },
     "execution_count": 24,
     "metadata": {},
     "output_type": "execute_result"
    }
   ],
   "source": [
    "list(range(1,5))"
   ]
  },
  {
   "cell_type": "markdown",
   "metadata": {},
   "source": [
    "# I. Generate all SAWs on a 2D square lattice\n",
    "\n",
    "A self-avoiding walk is a random walk where a lattice site can only be visited once."
   ]
  },
  {
   "cell_type": "code",
   "execution_count": 9,
   "metadata": {},
   "outputs": [],
   "source": [
    "steps = [(1, 0), (-1, 0), (0, 1), (0, -1)]\n",
    "\n",
    "def generate_SAWs(path, L, cache):\n",
    "    if L == 0:\n",
    "        cache.append(path)\n",
    "    else:\n",
    "        for dx, dy in steps:\n",
    "            x, y = path[-1]\n",
    "            xy_new = (x + dx, y + dy)\n",
    "            if xy_new not in path:\n",
    "                pp = path.copy()\n",
    "                pp.append(xy_new)\n",
    "                generate_SAWs(pp, L - 1, cache)"
   ]
  },
  {
   "cell_type": "markdown",
   "metadata": {},
   "source": [
    "## Task 1\n",
    "\n",
    "How many walks of a given length are there? What is the mean end-to-end distance of walks of a given length? What is mean *square* of the end-to-end distance?"
   ]
  },
  {
   "cell_type": "code",
   "execution_count": 10,
   "metadata": {},
   "outputs": [
    {
     "name": "stdout",
     "output_type": "stream",
     "text": [
      "There are 2172 walks of length 7\n",
      "Average mean square end-to-end distance of random walks of length  7  is  3.747689393488149\n",
      "Average end-to-end distance of random walks of length 7 is [-1.4137996329210978e-16, 2.1206994493816467e-16]\n"
     ]
    }
   ],
   "source": [
    "cache_SAW = []\n",
    "length_SAW = 7 # length of self-avoiding walk\n",
    "generate_SAWs([(0, 0)], length_SAW, cache_SAW)\n",
    "print('There are', len(cache_SAW), 'walks of length', length_SAW)\n",
    "distance(length_SAW,'saw')"
   ]
  },
  {
   "cell_type": "markdown",
   "metadata": {},
   "source": [
    "## Extra tasks (for fun, no credit, a possible basis of a course project)\n",
    "\n",
    "1. Triangular lattice\n",
    "2. Rewrite the recursive algorithm to use a queue"
   ]
  },
  {
   "cell_type": "code",
   "execution_count": null,
   "metadata": {},
   "outputs": [],
   "source": []
  }
 ],
 "metadata": {
  "kernelspec": {
   "display_name": "Python 3",
   "language": "python",
   "name": "python3"
  },
  "language_info": {
   "codemirror_mode": {
    "name": "ipython",
    "version": 3
   },
   "file_extension": ".py",
   "mimetype": "text/x-python",
   "name": "python",
   "nbconvert_exporter": "python",
   "pygments_lexer": "ipython3",
   "version": "3.6.6"
  }
 },
 "nbformat": 4,
 "nbformat_minor": 2
}
