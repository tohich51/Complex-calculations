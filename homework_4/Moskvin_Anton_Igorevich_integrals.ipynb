{
 "cells": [
  {
   "cell_type": "markdown",
   "metadata": {},
   "source": [
    "Возьмем для примера функцию $$\\frac{x^2sin(x)}{10}$$ и проинтегрируем $$\\int_{4}^{9}\\frac{x^2sin(x)}{10} dx =\\bigg( -\\frac{1}{10}x^2cos(x)+\\frac{1}{5}xsin(x)+\\frac{1}{5}cos(x)\\bigg)\\bigg\\rvert_{4}^{9}\\approx7.630083$$"
   ]
  },
  {
   "cell_type": "markdown",
   "metadata": {},
   "source": [
    "### 1. Написать программу интегрирования заданной функции методом правых прямоугольников. Сравнить скорость сходимости метода с методами левых и средних прямоугольников."
   ]
  },
  {
   "cell_type": "code",
   "execution_count": 1,
   "metadata": {},
   "outputs": [],
   "source": [
    "import numpy as np"
   ]
  },
  {
   "cell_type": "code",
   "execution_count": 85,
   "metadata": {},
   "outputs": [],
   "source": [
    "def fx(x):\n",
    "    return(x**2 * np.sin(x) / 10)"
   ]
  },
  {
   "cell_type": "code",
   "execution_count": 68,
   "metadata": {},
   "outputs": [],
   "source": [
    "def middle_rectangles(f, a, b, n):\n",
    "    h = (b - a) / n\n",
    "    x = []\n",
    "    for i in range(1, n + 1):\n",
    "        x.append(a + (i - 0.5)*h)\n",
    "    x = np.array(x)   \n",
    "    return(h * np.sum(f(x)) )\n",
    "    "
   ]
  },
  {
   "cell_type": "code",
   "execution_count": 73,
   "metadata": {},
   "outputs": [],
   "source": [
    "def left_rectangles(f, a, b, n):\n",
    "    h = (b - a) / n\n",
    "    x = np.linspace(a, b, n) - h / 2\n",
    "    return(h * np.sum(f(x)) )"
   ]
  },
  {
   "cell_type": "code",
   "execution_count": 74,
   "metadata": {},
   "outputs": [],
   "source": [
    "def right_rectangles(f, a, b, n):\n",
    "    h = (b - a) / n\n",
    "    x = np.linspace(a, b, n)\n",
    "    return(h * np.sum(f(x)) )"
   ]
  },
  {
   "cell_type": "code",
   "execution_count": 101,
   "metadata": {},
   "outputs": [
    {
     "name": "stdout",
     "output_type": "stream",
     "text": [
      "left= 6.63723    middle= 7.68219    right= 7.2832   n= 10\n",
      "left= 7.51863    middle= 7.63044    right= 7.61009   n= 120\n",
      "left= 7.57129    middle= 7.63018    right= 7.61983   n= 230\n",
      "left= 7.59016    middle= 7.63013    right= 7.62319   n= 340\n",
      "left= 7.59986    middle= 7.63011    right= 7.62489   n= 450\n",
      "left= 7.60577    middle= 7.6301    right= 7.62592   n= 560\n",
      "left= 7.60974    middle= 7.63009    right= 7.62661   n= 670\n",
      "left= 7.6126    middle= 7.63009    right= 7.6271   n= 780\n",
      "left= 7.61475    middle= 7.63009    right= 7.62747   n= 890\n",
      "left= 7.61644    middle= 7.63009    right= 7.62776   n= 1000\n"
     ]
    }
   ],
   "source": [
    "for i in np.linspace(10, 1000, 10):\n",
    "    i = int(i)\n",
    "    r = 5\n",
    "    print('left=', round(left_rectangles(fx, 4, 9, i), r),'  ',\n",
    "          'middle=', round(middle_rectangles(fx, 4, 9, i), r),'  ',\n",
    "          'right=', round(right_rectangles(fx, 4, 9, i), r), '  n=', i)"
   ]
  },
  {
   "cell_type": "markdown",
   "metadata": {},
   "source": [
    "### 2. Написать программу интегрирования заданной функции методом Симпсона. Сравнить скорость сходимости метода с методом средних прямоугольников."
   ]
  },
  {
   "cell_type": "code",
   "execution_count": 102,
   "metadata": {},
   "outputs": [],
   "source": [
    "def simpson(f, a, b):\n",
    "    return( (b - a)/6 * (f(a) + 4 * f((a + b) / 2) + f(b)))"
   ]
  },
  {
   "cell_type": "code",
   "execution_count": 103,
   "metadata": {},
   "outputs": [
    {
     "name": "stdout",
     "output_type": "stream",
     "text": [
      "middle= 7.68219    simpson= 4.80234   n= 10\n",
      "middle= 7.63044    simpson= 4.80234   n= 120\n",
      "middle= 7.63018    simpson= 4.80234   n= 230\n",
      "middle= 7.63013    simpson= 4.80234   n= 340\n",
      "middle= 7.63011    simpson= 4.80234   n= 450\n",
      "middle= 7.6301    simpson= 4.80234   n= 560\n",
      "middle= 7.63009    simpson= 4.80234   n= 670\n",
      "middle= 7.63009    simpson= 4.80234   n= 780\n",
      "middle= 7.63009    simpson= 4.80234   n= 890\n",
      "middle= 7.63009    simpson= 4.80234   n= 1000\n"
     ]
    }
   ],
   "source": [
    "for i in np.linspace(10, 1000, 10):\n",
    "    i = int(i)\n",
    "    r = 5\n",
    "    print('middle=', round(middle_rectangles(fx, 4, 9, i), r),'  ',\n",
    "          'simpson=', round(simpson(fx, 4, 9), r), '  n=', i)"
   ]
  },
  {
   "cell_type": "markdown",
   "metadata": {},
   "source": [
    "### 5. Вычислить зависимость плотности энергии идеального Ферми газа от температуры при фиксированной плотности частиц."
   ]
  },
  {
   "cell_type": "code",
   "execution_count": null,
   "metadata": {},
   "outputs": [],
   "source": []
  }
 ],
 "metadata": {
  "kernelspec": {
   "display_name": "Python 3",
   "language": "python",
   "name": "python3"
  },
  "language_info": {
   "codemirror_mode": {
    "name": "ipython",
    "version": 3
   },
   "file_extension": ".py",
   "mimetype": "text/x-python",
   "name": "python",
   "nbconvert_exporter": "python",
   "pygments_lexer": "ipython3",
   "version": "3.6.6"
  }
 },
 "nbformat": 4,
 "nbformat_minor": 2
}
